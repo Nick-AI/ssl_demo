{
 "cells": [
  {
   "cell_type": "markdown",
   "metadata": {},
   "source": [
    "# <center>Contrastive Learning</center>\n",
    "\n",
    "### <center>Using SimCLR to illustrate the principles of self-supervised contrastive learning (CL)</center>\n",
    "\n",
    "<center>Nick Glaser</center>\n"
   ]
  },
  {
   "cell_type": "markdown",
   "metadata": {},
   "source": [
    "## CL - Introduction\n",
    "\n",
    "- What's the need for CL?\n",
    "  - Leverage large amounts of unlabeled data\n",
    "  - Build _good_ transfer learning models\n",
    "    - [Cross-entropy-trained models generally have suboptimal transfer performance](https://arxiv.org/abs/2103.13517)\n",
    "    - [Transferability depends on many factors and is fragile in XEnt CV models](https://arxiv.org/abs/1411.1792)\n",
    "\n",
    "[//]: # \"Transferring between tasks is hard. Task similarity matters, data similarity matters. Classic classification & xent loss results in very semantically high-level features, e.g. petal-detectors - good for IRIS transfer, bad for medical images and planes. Can be combatted by using intermediate network layers instead of last but still run into issues, lower features might be too general, co-adapted neurons from original task cause instabilities, etc.\"\n"
   ]
  },
  {
   "cell_type": "markdown",
   "metadata": {},
   "source": [
    "![image](./media/transfer_learning.jpeg)\n"
   ]
  },
  {
   "cell_type": "markdown",
   "metadata": {},
   "source": [
    "![image](./media/imagenet_v_cl.jpeg)\n"
   ]
  },
  {
   "cell_type": "markdown",
   "metadata": {},
   "source": [
    "- How can we frame a learning problem when we don't have labels for our data?\n",
    "  - Intuition: one-versus-rest/ instance-level classification [Wu et al. 2018](https://arxiv.org/abs/1805.01978v1)\n",
    "  - Learn embeddings that are similar for variations of the same sample while different for other examples\n"
   ]
  },
  {
   "cell_type": "markdown",
   "metadata": {},
   "source": [
    "- Formalize a problem statement\n",
    "  - Anchor $x$: Random sample drawn from data distribution\n",
    "  - Positive sample $x^+$: Semantically similar sample to anchor\n",
    "  - Negative sample $x^-$: Semantically disimilar sample to anchor\n",
    "  - Encoder function $f: x \\mapsto \\textbf{h}$\n",
    "  - **Goal**: learn $f$ such that $x$ and $x^+$ are closer in embedding space and $x$ and $x^-$ are far away, formally:\n",
    "\n",
    "**Contrastive learning seeks to satisfy**:\n",
    "$sim(\\textbf{h}, \\textbf{h}^+) > sim(\\textbf{h}, \\textbf{h}^-)$\n",
    "\n",
    "- Negative examples are easy to obtain for instance-level discrimination, but how do we get good positive examples?\n",
    "  - Pretext tasks!\n"
   ]
  },
  {
   "cell_type": "markdown",
   "metadata": {},
   "source": [
    "![image](./media/augmentations.jpeg)\n"
   ]
  },
  {
   "cell_type": "code",
   "execution_count": 1,
   "metadata": {},
   "outputs": [
    {
     "data": {
      "application/vnd.jupyter.widget-view+json": {
       "model_id": "f77c1068af5d418fa5f5327bdffed492",
       "version_major": 2,
       "version_minor": 0
      },
      "text/plain": [
       "SelectMultiple(description='Data Transforms', index=(4, 1, 2, 3), options=('horizontal_flip', 'color_jitter', …"
      ]
     },
     "metadata": {},
     "output_type": "display_data"
    }
   ],
   "source": [
    "# some preprocessing code adapted from https://github.com/PyTorchLightning/lightning-bolts/\n",
    "import numpy as np\n",
    "import ipywidgets as widgets\n",
    "import matplotlib.pyplot as plt\n",
    "\n",
    "from demo_src.data_utils import util as data_util\n",
    "from torchvision import transforms\n",
    "\n",
    "# normalization stats for rgb channels\n",
    "cifar100_mean = (0.5071, 0.4867, 0.4408)\n",
    "cifar100_std = (0.2675, 0.2565, 0.2761)\n",
    "cifar100_dim = 32\n",
    "\n",
    "# augmentations, can modify values\n",
    "normalize = transforms.Normalize(mean=cifar100_mean, std=cifar100_std)\n",
    "horizontal_flip = transforms.RandomHorizontalFlip(p=0.5)\n",
    "color_jitter = transforms.RandomApply(\n",
    "    [transforms.ColorJitter(0.8, 0.8, 0.8, 0.2)], p=0.8)\n",
    "grayscale = transforms.RandomGrayscale(p=0.2)\n",
    "gauss_blur = transforms.RandomApply([data_util.GaussianBlur2()], p=0.5)\n",
    "resized_crop = transforms.RandomResizedCrop(size=cifar100_dim)\n",
    "\n",
    "# allowed transforms\n",
    "transform_dict = {\n",
    "    'horizontal_flip': horizontal_flip,\n",
    "    'color_jitter': color_jitter,\n",
    "    'grayscale': grayscale,\n",
    "    'gauss_blur': gauss_blur,\n",
    "    'resized_crop': resized_crop\n",
    "}\n",
    "\n",
    "transform_widget = widgets.SelectMultiple(\n",
    "    options=transform_dict.keys(),\n",
    "    value=['resized_crop', 'color_jitter', 'grayscale', 'gauss_blur'],\n",
    "    description='Data Transforms',\n",
    "    disabled=False\n",
    ")\n",
    "\n",
    "transform_widget\n"
   ]
  },
  {
   "cell_type": "code",
   "execution_count": 2,
   "metadata": {},
   "outputs": [
    {
     "name": "stdout",
     "output_type": "stream",
     "text": [
      "('resized_crop', 'color_jitter', 'grayscale', 'gauss_blur')\n"
     ]
    }
   ],
   "source": [
    "# fetch widget values and close widget\n",
    "selected_transforms = transform_widget.value\n",
    "print(selected_transforms)\n",
    "transform_widget.close()\n",
    "\n",
    "# training transforms for local views\n",
    "transf_list = [transform_dict[transf] for transf in selected_transforms]\n",
    "train_transform = transforms.Compose(\n",
    "    transf_list + [transforms.ToTensor(), normalize])\n",
    "\n",
    "# transform for global view\n",
    "eval_transform = transforms.Compose([transforms.Resize((int(cifar100_dim*0.1 + cifar100_dim))),\n",
    "                                    transforms.CenterCrop(cifar100_dim),\n",
    "                                    transforms.ToTensor(), normalize])\n",
    "\n",
    "\n",
    "def contrastive_transform(sample):\n",
    "    x_i = train_transform(sample)\n",
    "    x_j = train_transform(sample)\n",
    "\n",
    "    return x_i, x_j, eval_transform(sample), transforms.ToTensor()(sample)\n"
   ]
  },
  {
   "cell_type": "code",
   "execution_count": 3,
   "metadata": {},
   "outputs": [
    {
     "name": "stdout",
     "output_type": "stream",
     "text": [
      "Files already downloaded and verified\n",
      "Files already downloaded and verified\n"
     ]
    }
   ],
   "source": [
    "cifar_100_train = data_util.CIFAR100CL(root='../data/raw/',\n",
    "                                       train=True,\n",
    "                                       transform=contrastive_transform,\n",
    "                                       download=True\n",
    "                                       )\n",
    "\n",
    "cifar_100_test = data_util.CIFAR100CL(root='../data/raw/',\n",
    "                                      train=False,\n",
    "                                      transform=contrastive_transform,\n",
    "                                      download=True\n",
    "                                      )\n",
    "\n",
    "train_iter = iter(cifar_100_train)\n"
   ]
  },
  {
   "cell_type": "code",
   "execution_count": 4,
   "metadata": {},
   "outputs": [
    {
     "name": "stderr",
     "output_type": "stream",
     "text": [
      "Clipping input data to the valid range for imshow with RGB data ([0..1] for floats or [0..255] for integers).\n",
      "Clipping input data to the valid range for imshow with RGB data ([0..1] for floats or [0..255] for integers).\n",
      "Clipping input data to the valid range for imshow with RGB data ([0..1] for floats or [0..255] for integers).\n"
     ]
    },
    {
     "data": {
      "image/png": "[encoded data removed]",
      "text/plain": [
       "<Figure size 2000x500 with 4 Axes>"
      ]
     },
     "metadata": {},
     "output_type": "display_data"
    }
   ],
   "source": [
    "im, idx, lbl = next(train_iter)\n",
    "\n",
    "fig, axs = plt.subplots(1, 4, figsize=(20, 5))\n",
    "fig.suptitle(cifar_100_train.classes[lbl])\n",
    "for i in range(4):\n",
    "    tmp = im[i].transpose(0, 2).transpose(0, 1)\n",
    "    axs[i].imshow(tmp)\n",
    "plt.show()\n"
   ]
  },
  {
   "cell_type": "markdown",
   "metadata": {},
   "source": [
    "## SimCLR\n"
   ]
  },
  {
   "cell_type": "markdown",
   "metadata": {},
   "source": [
    "<p float=\"left\">\n",
    "  <img src=\"./media/cl_overview.gif\" width=\"315\" />\n",
    "  <img src=\"./media/simclr_overview.png\" width=\"451\" /> \n",
    "</p>\n"
   ]
  },
  {
   "cell_type": "markdown",
   "metadata": {},
   "source": [
    "### How can we go about \"maximizing agreement\"?\n"
   ]
  },
  {
   "cell_type": "markdown",
   "metadata": {},
   "source": [
    "![image](./media/agreement_office.jpeg)\n"
   ]
  },
  {
   "cell_type": "markdown",
   "metadata": {},
   "source": [
    "- Measure of similarity $\\text{sim}(.,.)$: cosine similarity\n",
    "  **$\\mathrm{sim}(\\bm u,\\bm v) = \\bm u^\\top \\bm v / \\lVert\\bm u\\rVert \\lVert\\bm v\\rVert$**\n",
    "\n",
    "[//]: # \"l2 norm applied for cosine similarity - as opposed to in dot product - is form of regularization and thus might help restrict network. SimCLR results show that using dot product improves CL task performance but degrades transfer performance -> overfitting\"\n",
    "\n",
    "- Loss to be minimized:\n",
    "  #### $\\mathcal{L}_{(i,j)} = - \\log\\frac{\\exp(\\text{sim}(\\mathbf{z}_i, \\mathbf{z}_j) / \\tau)}{\\sum_{k=1}^{2N} \\mathbb{1}_{[k \\neq i]} \\exp(\\text{sim}(\\mathbf{z}_i, \\mathbf{z}_k) / \\tau)}$\n",
    "- Toy example for a batch of 2 examples (part of [this excellent blog post](https://medium.datadriveninvestor.com/simclr-part-2-the-encoder-projection-head-and-loss-function-809a64f30d4a)):\n",
    "  - Transform and encode both examples to obtain $z_1, z_2, z_3, z_4$\n",
    "  - Let's focus on just $z_1$ and calculate all pairwise similarities:\n",
    "    - $a = \\mathrm{sim}(\\bm z_1,\\bm z_2)$\n",
    "    - $b = \\mathrm{sim}(\\bm z_1,\\bm z_3)$\n",
    "    - $c = \\mathrm{sim}(\\bm z_1,\\bm z_4)$\n",
    "  - In order to maximize a while minimizing b and c, and easy loss could be:\n",
    "    ### $\\frac{b+c}{a}$ → $\\frac{e^{b}+e^{c}}{e^{a}}$ → $1 + \\frac{e^{b}+e^{c}}{e^{a}}$ → $\\frac{e^{a}+e^{b}+e^{c}}{e^{a}}$\n",
    "  - And now to arrive at the cross-entropy part:\n",
    "    ### $\\log(\\frac{e^{a}+e^{b}+e^{c}}{e^{a}})$ → $\\log((\\frac{e^{a}}{e^{a}+e^{b}+e^{c}})^{-1})$ → $-\\log(\\frac{e^{a}}{e^{a}+e^{b}+e^{c}})$\n",
    "  - Add temperature scaling and you have the NT-XEnt loss for one of the embeddings of a single example:\n",
    "    ### $-\\log(\\frac{e^\\frac{{a}}{t}}{e^\\frac{{a}}{t}+e^\\frac{{b}}{t}+e^\\frac{{c}}{t}})$\n",
    "- Uniquely desirable property of this loss:\n",
    "  - Implicitly weighs \"hard negatives\" - negatives with high similarity to the anchor - highly\n"
   ]
  },
  {
   "cell_type": "code",
   "execution_count": 5,
   "metadata": {},
   "outputs": [],
   "source": [
    "import pytorch_lightning as pl\n",
    "import torch.utils.data as data\n",
    "from pytorch_lightning import loggers as pl_loggers\n",
    "from pytorch_lightning import LightningModule, Trainer\n",
    "from pytorch_lightning.callbacks import LearningRateMonitor, ModelCheckpoint\n",
    "\n",
    "from demo_src.model_utils import frameworks\n",
    "\n",
    "def simclr_trainer(train_ds, val_ds, batch_size=128, max_epochs=500, **kwargs):\n",
    "    tb_logger = pl_loggers.TensorBoardLogger(save_dir='../results/simclr_demo/lightning_logs')\n",
    "    trainer = Trainer(\n",
    "        default_root_dir='../results/simclr_demo/model_checkpoints',\n",
    "        gpus=0,\n",
    "        max_epochs=500,\n",
    "        callbacks=[\n",
    "            ModelCheckpoint(save_weights_only=False, mode=\"min\", monitor=\"train_loss\"),\n",
    "            LearningRateMonitor(\"epoch\"),\n",
    "        ],\n",
    "        logger=tb_logger,\n",
    "        log_every_n_steps=2\n",
    "    )\n",
    "    trainer.logger._default_hp_metric = None  # Optional logging argument that we don't need\n",
    "\n",
    "    train_loader = data.DataLoader(\n",
    "        train_ds,\n",
    "        batch_size=batch_size,\n",
    "        shuffle=True,\n",
    "        pin_memory=True,\n",
    "        num_workers=0,\n",
    "        drop_last=True)\n",
    "\n",
    "    valid_loader = data.DataLoader(\n",
    "        val_ds,\n",
    "        batch_size=batch_size,\n",
    "        shuffle=True,\n",
    "        pin_memory=True,\n",
    "        num_workers=0,\n",
    "        drop_last=True)\n",
    "\n",
    "    pl.seed_everything(13)\n",
    "    \n",
    "    model = frameworks.SimCLR(\n",
    "        gpus=1,\n",
    "        num_samples=len(cifar_100_train),\n",
    "        batch_size=batch_size,\n",
    "        arch='resnet18',\n",
    "        max_epochs=max_epochs,\n",
    "        hidden_mlp=512  # 2048 for resnet50\n",
    "    )\n",
    "    trainer.fit(model, train_loader, valid_loader)\n",
    "    \n",
    "    # load& return best model after training is complete\n",
    "    model = frameworks.SimCLR.load_from_checkpoint(trainer.checkpoint_callback.best_model_path)\n",
    "\n",
    "    return model"
   ]
  },
  {
   "cell_type": "code",
   "execution_count": 6,
   "metadata": {
    "scrolled": false
   },
   "outputs": [
    {
     "name": "stderr",
     "output_type": "stream",
     "text": [
      "/Users/yannikglaser/miniforge3/envs/ssl_demo/lib/python3.8/site-packages/pytorch_lightning/trainer/connectors/accelerator_connector.py:447: LightningDeprecationWarning: Setting `Trainer(gpus=0)` is deprecated in v1.7 and will be removed in v2.0. Please use `Trainer(accelerator='gpu', devices=0)` instead.\n",
      "  rank_zero_deprecation(\n",
      "GPU available: False, used: False\n",
      "TPU available: False, using: 0 TPU cores\n",
      "IPU available: False, using: 0 IPUs\n",
      "HPU available: False, using: 0 HPUs\n",
      "Global seed set to 13\n",
      "\n",
      "  | Name    | Type             | Params\n",
      "---------------------------------------------\n",
      "0 | encoder | ResNet           | 11.2 M\n",
      "1 | head    | NonlinProjection | 1.3 M \n",
      "---------------------------------------------\n",
      "12.5 M    Trainable params\n",
      "0         Non-trainable params\n",
      "12.5 M    Total params\n",
      "49.974    Total estimated model params size (MB)\n"
     ]
    },
    {
     "data": {
      "application/vnd.jupyter.widget-view+json": {
       "model_id": "b7ff9d248cb74905bce2e2317ae07de2",
       "version_major": 2,
       "version_minor": 0
      },
      "text/plain": [
       "Sanity Checking: 0it [00:00, ?it/s]"
      ]
     },
     "metadata": {},
     "output_type": "display_data"
    },
    {
     "name": "stderr",
     "output_type": "stream",
     "text": [
      "/Users/yannikglaser/miniforge3/envs/ssl_demo/lib/python3.8/site-packages/pytorch_lightning/trainer/connectors/data_connector.py:489: PossibleUserWarning: Your `val_dataloader`'s sampler has shuffling enabled, it is strongly recommended that you turn shuffling off for val/test/predict dataloaders.\n",
      "  rank_zero_warn(\n",
      "/Users/yannikglaser/miniforge3/envs/ssl_demo/lib/python3.8/site-packages/pytorch_lightning/trainer/connectors/data_connector.py:236: PossibleUserWarning: The dataloader, val_dataloader 0, does not have many workers which may be a bottleneck. Consider increasing the value of the `num_workers` argument` (try 8 which is the number of cpus on this machine) in the `DataLoader` init to improve performance.\n",
      "  rank_zero_warn(\n"
     ]
    },
    {
     "name": "stdout",
     "output_type": "stream",
     "text": [
      "warning: Embedding dir exists, did you set global_step for add_embedding()?\n"
     ]
    },
    {
     "name": "stderr",
     "output_type": "stream",
     "text": [
      "/Users/yannikglaser/miniforge3/envs/ssl_demo/lib/python3.8/site-packages/pytorch_lightning/trainer/connectors/data_connector.py:236: PossibleUserWarning: The dataloader, train_dataloader, does not have many workers which may be a bottleneck. Consider increasing the value of the `num_workers` argument` (try 8 which is the number of cpus on this machine) in the `DataLoader` init to improve performance.\n",
      "  rank_zero_warn(\n"
     ]
    },
    {
     "data": {
      "application/vnd.jupyter.widget-view+json": {
       "model_id": "65e5f8f7ff224e98ac481fce22bd9b5e",
       "version_major": 2,
       "version_minor": 0
      },
      "text/plain": [
       "Training: 0it [00:00, ?it/s]"
      ]
     },
     "metadata": {},
     "output_type": "display_data"
    },
    {
     "name": "stderr",
     "output_type": "stream",
     "text": [
      "/Users/yannikglaser/miniforge3/envs/ssl_demo/lib/python3.8/site-packages/pytorch_lightning/trainer/trainer.py:653: UserWarning: Detected KeyboardInterrupt, attempting graceful shutdown...\n",
      "  rank_zero_warn(\"Detected KeyboardInterrupt, attempting graceful shutdown...\")\n"
     ]
    },
    {
     "ename": "IsADirectoryError",
     "evalue": "[Errno 21] Is a directory: '/Users/yannikglaser/Desktop/ssl_demo/notebooks'",
     "output_type": "error",
     "traceback": [
      "\u001b[0;31m---------------------------------------------------------------------------\u001b[0m",
      "\u001b[0;31mIsADirectoryError\u001b[0m                         Traceback (most recent call last)",
      "Cell \u001b[0;32mIn [6], line 1\u001b[0m\n\u001b[0;32m----> 1\u001b[0m simclr_model \u001b[38;5;241m=\u001b[39m \u001b[43msimclr_trainer\u001b[49m\u001b[43m(\u001b[49m\u001b[43mcifar_100_train\u001b[49m\u001b[43m,\u001b[49m\u001b[43m \u001b[49m\u001b[43mcifar_100_test\u001b[49m\u001b[43m,\u001b[49m\u001b[43m \u001b[49m\u001b[43mbatch_size\u001b[49m\u001b[38;5;241;43m=\u001b[39;49m\u001b[38;5;241;43m128\u001b[39;49m\u001b[43m)\u001b[49m\n",
      "Cell \u001b[0;32mIn [5], line 53\u001b[0m, in \u001b[0;36msimclr_trainer\u001b[0;34m(train_ds, val_ds, batch_size, max_epochs, **kwargs)\u001b[0m\n\u001b[1;32m     50\u001b[0m trainer\u001b[38;5;241m.\u001b[39mfit(model, train_loader, valid_loader)\n\u001b[1;32m     52\u001b[0m \u001b[38;5;66;03m# load& return best model after training is complete\u001b[39;00m\n\u001b[0;32m---> 53\u001b[0m model \u001b[38;5;241m=\u001b[39m \u001b[43msimclr\u001b[49m\u001b[38;5;241;43m.\u001b[39;49m\u001b[43mSimCLR\u001b[49m\u001b[38;5;241;43m.\u001b[39;49m\u001b[43mload_from_checkpoint\u001b[49m\u001b[43m(\u001b[49m\u001b[43mtrainer\u001b[49m\u001b[38;5;241;43m.\u001b[39;49m\u001b[43mcheckpoint_callback\u001b[49m\u001b[38;5;241;43m.\u001b[39;49m\u001b[43mbest_model_path\u001b[49m\u001b[43m)\u001b[49m\n\u001b[1;32m     55\u001b[0m \u001b[38;5;28;01mreturn\u001b[39;00m model\n",
      "File \u001b[0;32m~/miniforge3/envs/ssl_demo/lib/python3.8/site-packages/pytorch_lightning/core/saving.py:137\u001b[0m, in \u001b[0;36mModelIO.load_from_checkpoint\u001b[0;34m(cls, checkpoint_path, map_location, hparams_file, strict, **kwargs)\u001b[0m\n\u001b[1;32m     57\u001b[0m \u001b[39m@classmethod\u001b[39m\n\u001b[1;32m     58\u001b[0m \u001b[39mdef\u001b[39;00m \u001b[39mload_from_checkpoint\u001b[39m(\n\u001b[1;32m     59\u001b[0m     \u001b[39mcls\u001b[39m,\n\u001b[0;32m   (...)\u001b[0m\n\u001b[1;32m     64\u001b[0m     \u001b[39m*\u001b[39m\u001b[39m*\u001b[39mkwargs,\n\u001b[1;32m     65\u001b[0m ):\n\u001b[1;32m     66\u001b[0m     \u001b[39mr\u001b[39m\u001b[39m\"\"\"\u001b[39;00m\n\u001b[1;32m     67\u001b[0m \u001b[39m    Primary way of loading a model from a checkpoint. When Lightning saves a checkpoint\u001b[39;00m\n\u001b[1;32m     68\u001b[0m \u001b[39m    it stores the arguments passed to ``__init__``  in the checkpoint under ``\"hyper_parameters\"``.\u001b[39;00m\n\u001b[0;32m   (...)\u001b[0m\n\u001b[1;32m    135\u001b[0m \u001b[39m        y_hat = pretrained_model(x)\u001b[39;00m\n\u001b[1;32m    136\u001b[0m \u001b[39m    \"\"\"\u001b[39;00m\n\u001b[0;32m--> 137\u001b[0m     \u001b[39mreturn\u001b[39;00m _load_from_checkpoint(\n\u001b[1;32m    138\u001b[0m         \u001b[39mcls\u001b[39;49m,\n\u001b[1;32m    139\u001b[0m         checkpoint_path,\n\u001b[1;32m    140\u001b[0m         map_location,\n\u001b[1;32m    141\u001b[0m         hparams_file,\n\u001b[1;32m    142\u001b[0m         strict,\n\u001b[1;32m    143\u001b[0m         \u001b[39m*\u001b[39;49m\u001b[39m*\u001b[39;49mkwargs,\n\u001b[1;32m    144\u001b[0m     )\n",
      "File \u001b[0;32m~/miniforge3/envs/ssl_demo/lib/python3.8/site-packages/pytorch_lightning/core/saving.py:184\u001b[0m, in \u001b[0;36m_load_from_checkpoint\u001b[0;34m(cls, checkpoint_path, map_location, hparams_file, strict, **kwargs)\u001b[0m\n\u001b[1;32m    182\u001b[0m     map_location \u001b[39m=\u001b[39m \u001b[39mlambda\u001b[39;00m storage, loc: storage\n\u001b[1;32m    183\u001b[0m \u001b[39mwith\u001b[39;00m pl_legacy_patch():\n\u001b[0;32m--> 184\u001b[0m     checkpoint \u001b[39m=\u001b[39m pl_load(checkpoint_path, map_location\u001b[39m=\u001b[39;49mmap_location)\n\u001b[1;32m    186\u001b[0m \u001b[39mif\u001b[39;00m hparams_file \u001b[39mis\u001b[39;00m \u001b[39mnot\u001b[39;00m \u001b[39mNone\u001b[39;00m:\n\u001b[1;32m    187\u001b[0m     extension \u001b[39m=\u001b[39m hparams_file\u001b[39m.\u001b[39msplit(\u001b[39m\"\u001b[39m\u001b[39m.\u001b[39m\u001b[39m\"\u001b[39m)[\u001b[39m-\u001b[39m\u001b[39m1\u001b[39m]\n",
      "File \u001b[0;32m~/miniforge3/envs/ssl_demo/lib/python3.8/site-packages/pytorch_lightning/utilities/cloud_io.py:46\u001b[0m, in \u001b[0;36mload\u001b[0;34m(path_or_url, map_location)\u001b[0m\n\u001b[1;32m     44\u001b[0m     \u001b[39mreturn\u001b[39;00m torch\u001b[39m.\u001b[39mhub\u001b[39m.\u001b[39mload_state_dict_from_url(\u001b[39mstr\u001b[39m(path_or_url), map_location\u001b[39m=\u001b[39mmap_location)\n\u001b[1;32m     45\u001b[0m fs \u001b[39m=\u001b[39m get_filesystem(path_or_url)\n\u001b[0;32m---> 46\u001b[0m \u001b[39mwith\u001b[39;00m fs\u001b[39m.\u001b[39;49mopen(path_or_url, \u001b[39m\"\u001b[39;49m\u001b[39mrb\u001b[39;49m\u001b[39m\"\u001b[39;49m) \u001b[39mas\u001b[39;00m f:\n\u001b[1;32m     47\u001b[0m     \u001b[39mreturn\u001b[39;00m torch\u001b[39m.\u001b[39mload(f, map_location\u001b[39m=\u001b[39mmap_location)\n",
      "File \u001b[0;32m~/miniforge3/envs/ssl_demo/lib/python3.8/site-packages/fsspec/spec.py:1034\u001b[0m, in \u001b[0;36mAbstractFileSystem.open\u001b[0;34m(self, path, mode, block_size, cache_options, compression, **kwargs)\u001b[0m\n\u001b[1;32m   1032\u001b[0m \u001b[39melse\u001b[39;00m:\n\u001b[1;32m   1033\u001b[0m     ac \u001b[39m=\u001b[39m kwargs\u001b[39m.\u001b[39mpop(\u001b[39m\"\u001b[39m\u001b[39mautocommit\u001b[39m\u001b[39m\"\u001b[39m, \u001b[39mnot\u001b[39;00m \u001b[39mself\u001b[39m\u001b[39m.\u001b[39m_intrans)\n\u001b[0;32m-> 1034\u001b[0m     f \u001b[39m=\u001b[39m \u001b[39mself\u001b[39;49m\u001b[39m.\u001b[39;49m_open(\n\u001b[1;32m   1035\u001b[0m         path,\n\u001b[1;32m   1036\u001b[0m         mode\u001b[39m=\u001b[39;49mmode,\n\u001b[1;32m   1037\u001b[0m         block_size\u001b[39m=\u001b[39;49mblock_size,\n\u001b[1;32m   1038\u001b[0m         autocommit\u001b[39m=\u001b[39;49mac,\n\u001b[1;32m   1039\u001b[0m         cache_options\u001b[39m=\u001b[39;49mcache_options,\n\u001b[1;32m   1040\u001b[0m         \u001b[39m*\u001b[39;49m\u001b[39m*\u001b[39;49mkwargs,\n\u001b[1;32m   1041\u001b[0m     )\n\u001b[1;32m   1042\u001b[0m     \u001b[39mif\u001b[39;00m compression \u001b[39mis\u001b[39;00m \u001b[39mnot\u001b[39;00m \u001b[39mNone\u001b[39;00m:\n\u001b[1;32m   1043\u001b[0m         \u001b[39mfrom\u001b[39;00m \u001b[39mfsspec\u001b[39;00m\u001b[39m.\u001b[39;00m\u001b[39mcompression\u001b[39;00m \u001b[39mimport\u001b[39;00m compr\n",
      "File \u001b[0;32m~/miniforge3/envs/ssl_demo/lib/python3.8/site-packages/fsspec/implementations/local.py:162\u001b[0m, in \u001b[0;36mLocalFileSystem._open\u001b[0;34m(self, path, mode, block_size, **kwargs)\u001b[0m\n\u001b[1;32m    160\u001b[0m \u001b[39mif\u001b[39;00m \u001b[39mself\u001b[39m\u001b[39m.\u001b[39mauto_mkdir \u001b[39mand\u001b[39;00m \u001b[39m\"\u001b[39m\u001b[39mw\u001b[39m\u001b[39m\"\u001b[39m \u001b[39min\u001b[39;00m mode:\n\u001b[1;32m    161\u001b[0m     \u001b[39mself\u001b[39m\u001b[39m.\u001b[39mmakedirs(\u001b[39mself\u001b[39m\u001b[39m.\u001b[39m_parent(path), exist_ok\u001b[39m=\u001b[39m\u001b[39mTrue\u001b[39;00m)\n\u001b[0;32m--> 162\u001b[0m \u001b[39mreturn\u001b[39;00m LocalFileOpener(path, mode, fs\u001b[39m=\u001b[39;49m\u001b[39mself\u001b[39;49m, \u001b[39m*\u001b[39;49m\u001b[39m*\u001b[39;49mkwargs)\n",
      "File \u001b[0;32m~/miniforge3/envs/ssl_demo/lib/python3.8/site-packages/fsspec/implementations/local.py:260\u001b[0m, in \u001b[0;36mLocalFileOpener.__init__\u001b[0;34m(self, path, mode, autocommit, fs, compression, **kwargs)\u001b[0m\n\u001b[1;32m    258\u001b[0m \u001b[39mself\u001b[39m\u001b[39m.\u001b[39mcompression \u001b[39m=\u001b[39m get_compression(path, compression)\n\u001b[1;32m    259\u001b[0m \u001b[39mself\u001b[39m\u001b[39m.\u001b[39mblocksize \u001b[39m=\u001b[39m io\u001b[39m.\u001b[39mDEFAULT_BUFFER_SIZE\n\u001b[0;32m--> 260\u001b[0m \u001b[39mself\u001b[39;49m\u001b[39m.\u001b[39;49m_open()\n",
      "File \u001b[0;32m~/miniforge3/envs/ssl_demo/lib/python3.8/site-packages/fsspec/implementations/local.py:265\u001b[0m, in \u001b[0;36mLocalFileOpener._open\u001b[0;34m(self)\u001b[0m\n\u001b[1;32m    263\u001b[0m \u001b[39mif\u001b[39;00m \u001b[39mself\u001b[39m\u001b[39m.\u001b[39mf \u001b[39mis\u001b[39;00m \u001b[39mNone\u001b[39;00m \u001b[39mor\u001b[39;00m \u001b[39mself\u001b[39m\u001b[39m.\u001b[39mf\u001b[39m.\u001b[39mclosed:\n\u001b[1;32m    264\u001b[0m     \u001b[39mif\u001b[39;00m \u001b[39mself\u001b[39m\u001b[39m.\u001b[39mautocommit \u001b[39mor\u001b[39;00m \u001b[39m\"\u001b[39m\u001b[39mw\u001b[39m\u001b[39m\"\u001b[39m \u001b[39mnot\u001b[39;00m \u001b[39min\u001b[39;00m \u001b[39mself\u001b[39m\u001b[39m.\u001b[39mmode:\n\u001b[0;32m--> 265\u001b[0m         \u001b[39mself\u001b[39m\u001b[39m.\u001b[39mf \u001b[39m=\u001b[39m \u001b[39mopen\u001b[39;49m(\u001b[39mself\u001b[39;49m\u001b[39m.\u001b[39;49mpath, mode\u001b[39m=\u001b[39;49m\u001b[39mself\u001b[39;49m\u001b[39m.\u001b[39;49mmode)\n\u001b[1;32m    266\u001b[0m         \u001b[39mif\u001b[39;00m \u001b[39mself\u001b[39m\u001b[39m.\u001b[39mcompression:\n\u001b[1;32m    267\u001b[0m             compress \u001b[39m=\u001b[39m compr[\u001b[39mself\u001b[39m\u001b[39m.\u001b[39mcompression]\n",
      "\u001b[0;31mIsADirectoryError\u001b[0m: [Errno 21] Is a directory: '/Users/yannikglaser/Desktop/ssl_demo/notebooks'"
     ]
    }
   ],
   "source": [
    "simclr_model = simclr_trainer(cifar_100_train, cifar_100_test, batch_size=128)"
   ]
  },
  {
   "cell_type": "markdown",
   "metadata": {},
   "source": [
    "## Let's look at some of the observations from the paper:\n",
    "### Augmentations matter"
   ]
  },
  {
   "cell_type": "markdown",
   "metadata": {},
   "source": [
    "![image](./media/augmentation_matrix.png)"
   ]
  },
  {
   "cell_type": "markdown",
   "metadata": {},
   "source": [
    "![image](./media/cl_views.png)\n",
    "\n",
    "[//]: # \"From the paper https://arxiv.org/abs/2005.10243\""
   ]
  },
  {
   "cell_type": "markdown",
   "metadata": {},
   "source": [
    "### Contrastive learning models are superb semi-supervised and transfer learners"
   ]
  },
  {
   "cell_type": "markdown",
   "metadata": {},
   "source": [
    "![image](./media/simclr_transfer.png)"
   ]
  },
  {
   "cell_type": "markdown",
   "metadata": {},
   "source": [
    "![image](./media/semisup_table7.png)"
   ]
  },
  {
   "cell_type": "markdown",
   "metadata": {},
   "source": [
    "![image](./media/semisup_simclrv2.png)\n",
    "\n",
    "[//]: # \"From the paper https://arxiv.org/abs/2006.10029\""
   ]
  },
  {
   "cell_type": "markdown",
   "metadata": {},
   "source": [
    "### However, CL is expensive"
   ]
  },
  {
   "cell_type": "markdown",
   "metadata": {},
   "source": [
    "![image](./media/training_cost.png)"
   ]
  }
 ],
 "metadata": {
  "interpreter": {
   "hash": "f1fece7c4f4adb239025c48c3ec00e743632c1c3caa6a6cb39a39f7bcaab8c3d"
  },
  "kernelspec": {
   "display_name": "Python 3 (ipykernel)",
   "language": "python",
   "name": "python3"
  },
  "language_info": {
   "codemirror_mode": {
    "name": "ipython",
    "version": 3
   },
   "file_extension": ".py",
   "mimetype": "text/x-python",
   "name": "python",
   "nbconvert_exporter": "python",
   "pygments_lexer": "ipython3",
   "version": "3.8.13"
  }
 },
 "nbformat": 4,
 "nbformat_minor": 2
}
