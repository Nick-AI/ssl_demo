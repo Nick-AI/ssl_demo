{
 "cells": [
  {
   "cell_type": "markdown",
   "metadata": {},
   "source": [
    "# <center>Contrastive Learning</center>\n",
    "\n",
    "### <center>Using SimCLR to illustrate the principles of self-supervised contrastive learning (CL)</center>\n",
    "\n",
    "<center>Nick Glaser</center>\n"
   ]
  },
  {
   "cell_type": "markdown",
   "metadata": {},
   "source": [
    "## CL - Introduction\n",
    "\n",
    "- What's the need for CL?\n",
    "  - Leverage large amounts of unlabeled data\n",
    "  - Build _good_ transfer learning models\n",
    "    - [Cross-entropy-trained models generally have suboptimal transfer performance](https://arxiv.org/abs/2103.13517)\n",
    "    - [Transferability depends on many factors and is fragile in XEnt CV models](https://arxiv.org/abs/1411.1792)\n",
    "\n",
    "[//]: # \"Transferring between tasks is hard. Task similarity matters, data similarity matters. Classic classification & xent loss results in very semantically high-level features, e.g. petal-detectors - good for IRIS transfer, bad for medical images and planes. Can be combatted by using intermediate network layers instead of last but still run into issues, lower features might be too general, co-adapted neurons from original task cause instabilities, etc.\"\n"
   ]
  },
  {
   "cell_type": "markdown",
   "metadata": {},
   "source": [
    "![image](./media/transfer_learning.jpeg)\n"
   ]
  },
  {
   "cell_type": "markdown",
   "metadata": {},
   "source": [
    "![image](./media/imagenet_v_cl.jpeg)\n"
   ]
  },
  {
   "cell_type": "markdown",
   "metadata": {},
   "source": [
    "- How can we frame a learning problem when we don't have labels for our data?\n",
    "  - Intuition: one-versus-rest/ instance-level classification [Wu et al. 2018](https://arxiv.org/abs/1805.01978v1)\n",
    "  - Learn embeddings that are similar for variations of the same sample while different for other examples\n"
   ]
  },
  {
   "cell_type": "markdown",
   "metadata": {},
   "source": [
    "- Formalize a problem statement\n",
    "  - Anchor $x$: Random sample drawn from data distribution\n",
    "  - Positive sample $x^+$: Semantically similar sample to anchor\n",
    "  - Negative sample $x^-$: Semantically disimilar sample to anchor\n",
    "  - Encoder function $f: x \\mapsto \\textbf{h}$\n",
    "  - **Goal**: learn $f$ such that $x$ and $x^+$ are closer in embedding space and $x$ and $x^-$ are far away, formally:\n",
    "\n",
    "**Contrastive learning seeks to satisfy**:\n",
    "$sim(\\textbf{h}, \\textbf{h}^+) > sim(\\textbf{h}, \\textbf{h}^-)$\n",
    "\n",
    "- Negative examples are easy to obtain for instance-level discrimination, but how do we get good positive examples?\n",
    "  - Pretext tasks!\n"
   ]
  },
  {
   "cell_type": "markdown",
   "metadata": {},
   "source": [
    "![image](./media/augmentations.jpeg)\n"
   ]
  },
  {
   "cell_type": "code",
   "execution_count": 1,
   "metadata": {},
   "outputs": [
    {
     "data": {
      "application/vnd.jupyter.widget-view+json": {
       "model_id": "1e6881dbfca34f229432fba9a9f91b95",
       "version_major": 2,
       "version_minor": 0
      },
      "text/plain": [
       "SelectMultiple(description='Data Transforms', index=(4, 1, 2, 3), options=('horizontal_flip', 'color_jitter', …"
      ]
     },
     "metadata": {},
     "output_type": "display_data"
    }
   ],
   "source": [
    "# some preprocessing code adapted from https://github.com/PyTorchLightning/lightning-bolts/\n",
    "import numpy as np\n",
    "import ipywidgets as widgets\n",
    "import matplotlib.pyplot as plt\n",
    "\n",
    "from src.data_utils import util as data_util\n",
    "from torchvision import transforms\n",
    "\n",
    "# normalization stats for rgb channels\n",
    "cifar100_mean = (0.5071, 0.4867, 0.4408)\n",
    "cifar100_std = (0.2675, 0.2565, 0.2761)\n",
    "cifar100_dim = 32\n",
    "\n",
    "# augmentations, can modify values\n",
    "normalize = transforms.Normalize(mean=cifar100_mean, std=cifar100_std)\n",
    "horizontal_flip = transforms.RandomHorizontalFlip(p=0.5)\n",
    "color_jitter = transforms.RandomApply(\n",
    "    [transforms.ColorJitter(0.8, 0.8, 0.8, 0.2)], p=0.8)\n",
    "grayscale = transforms.RandomGrayscale(p=0.2)\n",
    "gauss_blur = transforms.RandomApply([data_util.GaussianBlur2()], p=0.5)\n",
    "resized_crop = transforms.RandomResizedCrop(size=cifar100_dim)\n",
    "\n",
    "# allowed transforms\n",
    "transform_dict = {\n",
    "    'horizontal_flip': horizontal_flip,\n",
    "    'color_jitter': color_jitter,\n",
    "    'grayscale': grayscale,\n",
    "    'gauss_blur': gauss_blur,\n",
    "    'resized_crop': resized_crop\n",
    "}\n",
    "\n",
    "transform_widget = widgets.SelectMultiple(\n",
    "    options=transform_dict.keys(),\n",
    "    value=['resized_crop', 'color_jitter', 'grayscale', 'gauss_blur'],\n",
    "    description='Data Transforms',\n",
    "    disabled=False\n",
    ")\n",
    "\n",
    "transform_widget\n"
   ]
  },
  {
   "cell_type": "code",
   "execution_count": 2,
   "metadata": {},
   "outputs": [
    {
     "name": "stdout",
     "output_type": "stream",
     "text": [
      "('resized_crop', 'color_jitter', 'grayscale', 'gauss_blur')\n"
     ]
    }
   ],
   "source": [
    "# fetch widget values and close widget\n",
    "selected_transforms = transform_widget.value\n",
    "print(selected_transforms)\n",
    "transform_widget.close()\n",
    "\n",
    "# training transforms for local views\n",
    "transf_list = [transform_dict[transf] for transf in selected_transforms]\n",
    "train_transform = transforms.Compose(\n",
    "    transf_list + [transforms.ToTensor(), normalize])\n",
    "\n",
    "# transform for global view\n",
    "eval_transform = transforms.Compose([transforms.Resize((int(cifar100_dim*0.1 + cifar100_dim))),\n",
    "                                    transforms.CenterCrop(cifar100_dim),\n",
    "                                    transforms.ToTensor(), normalize])\n",
    "\n",
    "\n",
    "def contrastive_transform(sample):\n",
    "    x_i = train_transform(sample)\n",
    "    x_j = train_transform(sample)\n",
    "\n",
    "    return x_i, x_j, eval_transform(sample), transforms.ToTensor()(sample)\n"
   ]
  },
  {
   "cell_type": "code",
   "execution_count": 9,
   "metadata": {},
   "outputs": [
    {
     "name": "stdout",
     "output_type": "stream",
     "text": [
      "Files already downloaded and verified\n",
      "Files already downloaded and verified\n"
     ]
    }
   ],
   "source": [
    "cifar_100_train = data_util.CIFAR100CL(root='../data/raw/',\n",
    "                                       train=True,\n",
    "                                       transform=contrastive_transform,\n",
    "                                       download=True\n",
    "                                       )\n",
    "\n",
    "cifar_100_test = data_util.CIFAR100CL(root='../data/raw/',\n",
    "                                      train=False,\n",
    "                                      transform=contrastive_transform,\n",
    "                                      download=True\n",
    "                                      )\n",
    "\n",
    "train_iter = iter(cifar_100_train)\n"
   ]
  },
  {
   "cell_type": "code",
   "execution_count": 10,
   "metadata": {},
   "outputs": [
    {
     "name": "stderr",
     "output_type": "stream",
     "text": [
      "Clipping input data to the valid range for imshow with RGB data ([0..1] for floats or [0..255] for integers).\n",
      "Clipping input data to the valid range for imshow with RGB data ([0..1] for floats or [0..255] for integers).\n",
      "Clipping input data to the valid range for imshow with RGB data ([0..1] for floats or [0..255] for integers).\n"
     ]
    },
    {
     "data": {
      "image/png": "[encoded data removed]",
      "text/plain": [
       "<Figure size 1440x360 with 4 Axes>"
      ]
     },
     "metadata": {
      "needs_background": "light"
     },
     "output_type": "display_data"
    }
   ],
   "source": [
    "im, idx, lbl = next(train_iter)\n",
    "\n",
    "fig, axs = plt.subplots(1, 4, figsize=(20, 5))\n",
    "fig.suptitle(cifar_100_train.classes[lbl])\n",
    "for i in range(4):\n",
    "    tmp = im[i].transpose(0, 2).transpose(0, 1)\n",
    "    axs[i].imshow(tmp)\n",
    "plt.show()\n"
   ]
  },
  {
   "cell_type": "markdown",
   "metadata": {},
   "source": [
    "## SimCLR\n"
   ]
  },
  {
   "cell_type": "markdown",
   "metadata": {},
   "source": [
    "<p float=\"left\">\n",
    "  <img src=\"./media/cl_overview.gif\" width=\"315\" />\n",
    "  <img src=\"./media/simclr_overview.png\" width=\"451\" /> \n",
    "</p>\n"
   ]
  },
  {
   "cell_type": "markdown",
   "metadata": {},
   "source": [
    "### How can we go about \"maximizing agreement\"?\n"
   ]
  },
  {
   "cell_type": "markdown",
   "metadata": {},
   "source": [
    "![image](./media/agreement_office.jpeg)\n"
   ]
  },
  {
   "cell_type": "markdown",
   "metadata": {},
   "source": [
    "- Measure of similarity $\\text{sim}(.,.)$: cosine similarity\n",
    "  **$\\mathrm{sim}(\\bm u,\\bm v) = \\bm u^\\top \\bm v / \\lVert\\bm u\\rVert \\lVert\\bm v\\rVert$**\n",
    "\n",
    "[//]: # \"l2 norm applied for cosine similarity - as opposed to in dot product - is form of regularization and thus might help restrict network. SimCLR results show that using dot product improves CL task performance but degrades transfer performance -> overfitting\"\n",
    "\n",
    "- Loss to be minimized:\n",
    "  #### $\\mathcal{L}_{(i,j)} = - \\log\\frac{\\exp(\\text{sim}(\\mathbf{z}_i, \\mathbf{z}_j) / \\tau)}{\\sum_{k=1}^{2N} \\mathbb{1}_{[k \\neq i]} \\exp(\\text{sim}(\\mathbf{z}_i, \\mathbf{z}_k) / \\tau)}$\n",
    "- Toy example for a batch of 2 examples (part of [this excellent blog post](https://medium.datadriveninvestor.com/simclr-part-2-the-encoder-projection-head-and-loss-function-809a64f30d4a)):\n",
    "  - Transform and encode both examples to obtain $z_1, z_2, z_3, z_4$\n",
    "  - Let's focus on just $z_1$ and calculate all pairwise similarities:\n",
    "    - $a = \\mathrm{sim}(\\bm z_1,\\bm z_2)$\n",
    "    - $b = \\mathrm{sim}(\\bm z_1,\\bm z_3)$\n",
    "    - $c = \\mathrm{sim}(\\bm z_1,\\bm z_4)$\n",
    "  - In order to maximize a while minimizing b and c, and easy loss could be:\n",
    "    ### $\\frac{b+c}{a}$ → $\\frac{e^{b}+e^{c}}{e^{a}}$ → $1 + \\frac{e^{b}+e^{c}}{e^{a}}$ → $\\frac{e^{a}+e^{b}+e^{c}}{e^{a}}$\n",
    "  - And now to arrive at the cross-entropy part:\n",
    "    ### $\\log(\\frac{e^{a}+e^{b}+e^{c}}{e^{a}})$ → $\\log((\\frac{e^{a}}{e^{a}+e^{b}+e^{c}})^{-1})$ → $-\\log(\\frac{e^{a}}{e^{a}+e^{b}+e^{c}})$\n",
    "  - Add temperature scaling and you have the NT-XEnt loss for one of the embeddings of a single example:\n",
    "    ### $-\\log(\\frac{e^\\frac{{a}}{t}}{e^\\frac{{a}}{t}+e^\\frac{{b}}{t}+e^\\frac{{c}}{t}})$\n",
    "- Uniquely desirable property of this loss:\n",
    "  - Implicitly weighs \"hard negatives\" - negatives with high similarity to the anchor - highly\n"
   ]
  },
  {
   "cell_type": "code",
   "execution_count": 6,
   "metadata": {},
   "outputs": [],
   "source": [
    "# use pytorch-lightning wrapper\n",
    "import math\n",
    "import torch\n",
    "import torch.optim as optim\n",
    "from torch import Tensor, nn\n",
    "import torch.utils.data as data\n",
    "from torch.nn import functional as F\n",
    "from torch.utils.tensorboard import SummaryWriter\n",
    "\n",
    "import pytorch_lightning as pl\n",
    "from pl_bolts.optimizers.lars import LARS\n",
    "from pytorch_lightning import loggers as pl_loggers\n",
    "from pytorch_lightning import LightningModule, Trainer\n",
    "from pytorch_lightning.callbacks import LearningRateMonitor, ModelCheckpoint\n",
    "\n",
    "from src.backend import model_zoo\n",
    "\n",
    "\n",
    "# For multi-gpu training\n",
    "class SyncFunction(torch.autograd.Function):\n",
    "    @staticmethod\n",
    "    def forward(ctx, tensor):\n",
    "        ctx.batch_size = tensor.shape[0]\n",
    "\n",
    "        gathered_tensor = [torch.zeros_like(tensor) for _ in range(torch.distributed.get_world_size())]\n",
    "\n",
    "        torch.distributed.all_gather(gathered_tensor, tensor)\n",
    "        gathered_tensor = torch.cat(gathered_tensor, 0)\n",
    "\n",
    "        return gathered_tensor\n",
    "\n",
    "    @staticmethod\n",
    "    def backward(ctx, grad_output):\n",
    "        grad_input = grad_output.clone()\n",
    "        torch.distributed.all_reduce(grad_input, op=torch.distributed.ReduceOp.SUM, async_op=False)\n",
    "\n",
    "        idx_from = torch.distributed.get_rank() * ctx.batch_size\n",
    "        idx_to = (torch.distributed.get_rank() + 1) * ctx.batch_size\n",
    "        return grad_input[idx_from:idx_to]\n",
    "\n",
    "\n",
    "# ReLU projection head\n",
    "class NonlinProjection(nn.Module):\n",
    "    def __init__(self, input_dim=2048, hidden_dim=2048, output_dim=128):\n",
    "        super().__init__()\n",
    "        self.output_dim = output_dim\n",
    "        self.input_dim = input_dim\n",
    "        self.hidden_dim = hidden_dim\n",
    "\n",
    "        self.model = nn.Sequential(\n",
    "            nn.Linear(self.input_dim, self.hidden_dim),\n",
    "            nn.BatchNorm1d(self.hidden_dim),\n",
    "            nn.ReLU(),\n",
    "            nn.Linear(self.hidden_dim, self.output_dim, bias=False),\n",
    "        )\n",
    "\n",
    "    def forward(self, x):\n",
    "        x = self.model(x)\n",
    "        return F.normalize(x, dim=1)\n",
    "\n",
    "\n",
    "# main framework\n",
    "class SimCLR(LightningModule):\n",
    "    def __init__(self,\n",
    "                 hidden_dim=2048,\n",
    "                 proj_dim=128,\n",
    "                 lr=1e-3,\n",
    "                 temperature=0.1,\n",
    "                 weight_decay=1e-6,\n",
    "                 max_epochs=500,\n",
    "                 encoder=None,\n",
    "                 optim='lars'):\n",
    "        super().__init__()\n",
    "        self.save_hyperparameters()\n",
    "\n",
    "        try:\n",
    "            assert self.hparams.temperature > 0.\n",
    "        except AssertionError:\n",
    "            exit('Temperature must be > 0.0.')\n",
    "\n",
    "        # TODO: implement more robust/ dynamic way of specifying encoder and hidden_dim\n",
    "        if encoder:\n",
    "            self.encoder = encoder\n",
    "        else:\n",
    "            self.encoder = model_zoo.resnet18(width=0.5)\n",
    "            self.hparams['hidden_dim'] = 2048\n",
    "\n",
    "        self.head = NonlinProjection(\n",
    "            input_dim=self.hparams.hidden_dim, output_dim=self.hparams.proj_dim)\n",
    "\n",
    "    def forward(self, x):\n",
    "        return self.encoder(x)\n",
    "\n",
    "    def shared_step(self, batch, mode='train'):\n",
    "        # 3rd image for online eval, 4th unprocessed image\n",
    "        # idx is for memory bank or momemntum encoder, irrelevant here\n",
    "        (img1, img2, _, raw), idx, y = batch\n",
    "\n",
    "        if mode != 'train':\n",
    "            # embed the more lightly augmented image\n",
    "            h_val = self(_)\n",
    "            z_val = self.head(h_val)\n",
    "            \n",
    "            self.logger.experiment.add_embedding(z_val, metadata=y.tolist(), label_img=raw, tag='Val Projection')\n",
    "\n",
    "        # get h embeddings\n",
    "        h1 = self(img1)\n",
    "        h2 = self(img2)\n",
    "\n",
    "        # get z projections\n",
    "        z1 = self.head(h1)\n",
    "        z2 = self.head(h2)\n",
    "\n",
    "        loss = self.nt_xent_loss(z1, z2, self.hparams.temperature, mode=mode)\n",
    "\n",
    "        return loss\n",
    "\n",
    "    def training_step(self, batch, batch_idx):\n",
    "        loss = self.shared_step(batch, mode='train')\n",
    "\n",
    "        self.log('train_loss', loss, on_step=True, on_epoch=False)\n",
    "        return loss\n",
    "\n",
    "    def validation_step(self, batch, batch_idx):\n",
    "        loss = self.shared_step(batch, mode='valid')\n",
    "\n",
    "        self.log('valid_loss', loss, on_step=True, on_epoch=False)\n",
    "        return loss\n",
    "\n",
    "    def configure_optimizers(self):\n",
    "        # paper default\n",
    "        if self.hparams.optim == 'lars':\n",
    "            optimizer = LARS(\n",
    "                self.parameters(),\n",
    "                lr=self.hparams.lr,\n",
    "                momentum=0.9,\n",
    "                weight_decay=self.hparams.weight_decay,\n",
    "                trust_coefficient=0.001,\n",
    "            )\n",
    "        # vanilla adam\n",
    "        elif self.hparams.optim == 'adam':\n",
    "            optimizer = torch.optim.Adam(\n",
    "                self.parameters(), lr=self.hparams.lr, weight_decay=self.hparams.weight_decay)\n",
    "        # adam with momentum\n",
    "        elif self.hparams.optim == 'adamw':\n",
    "            optimizer = optim.AdamW(\n",
    "                self.parameters(), lr=self.hparams.lr, weight_decay=self.hparams.weight_decay)\n",
    "        else:\n",
    "            raise NotImplementedError(\n",
    "                f'Optimizer {self.hparams.optim} not supported.')\n",
    "\n",
    "        lr_scheduler = optim.lr_scheduler.CosineAnnealingLR(\n",
    "            optimizer, T_max=self.hparams.max_epochs, eta_min=self.hparams.lr / 50\n",
    "        )\n",
    "\n",
    "        scheduler = {\n",
    "            \"scheduler\": lr_scheduler,\n",
    "            \"interval\": \"step\",\n",
    "            \"frequency\": 1,\n",
    "        }\n",
    "\n",
    "        return [optimizer], [scheduler]\n",
    "\n",
    "    def nt_xent_loss(self, out_1, out_2, temperature, eps=1e-6, mode='train'):\n",
    "        \"\"\"\n",
    "        assume out_1 and out_2 are l2 normalized\n",
    "        out_1: [batch_size, dim]\n",
    "        out_2: [batch_size, dim]\n",
    "        \"\"\"\n",
    "        # gather representations in case of distributed training\n",
    "        # out_1_dist: [batch_size * world_size, dim]\n",
    "        # out_2_dist: [batch_size * world_size, dim]\n",
    "        if torch.distributed.is_available() and torch.distributed.is_initialized():\n",
    "            out_1_dist = SyncFunction.apply(out_1)\n",
    "            out_2_dist = SyncFunction.apply(out_2)\n",
    "        else:\n",
    "            out_1_dist = out_1\n",
    "            out_2_dist = out_2\n",
    "\n",
    "        # out: [2 * batch_size, dim]\n",
    "        # out_dist: [2 * batch_size * world_size, dim]\n",
    "        out = torch.cat([out_1, out_2], dim=0)\n",
    "        out_dist = torch.cat([out_1_dist, out_2_dist], dim=0)\n",
    "\n",
    "        # cov and sim: [2 * batch_size, 2 * batch_size]\n",
    "        # neg: [2 * batch_size]\n",
    "        cov = torch.mm(out, out_dist.t())\n",
    "        sim = torch.exp(cov / temperature)\n",
    "\n",
    "        # loss denominator\n",
    "        neg = sim.sum(dim=-1)\n",
    "        # from each row, subtract e^(1/temp) to remove similarity measure for x1.x1 -> easier than masking\n",
    "        row_sub = Tensor(neg.shape).fill_(\n",
    "            math.e ** (1 / temperature)).to(neg.device)\n",
    "        # clamp for numerical stability\n",
    "        neg = torch.clamp(neg - row_sub, min=eps)\n",
    "\n",
    "        # loss numerator\n",
    "        # Positive similarity, pos becomes [2 * batch_size]\n",
    "        pos = torch.exp(torch.sum(out_1 * out_2, dim=-1) / temperature)\n",
    "        pos = torch.cat([pos, pos], dim=0)\n",
    "\n",
    "        loss = -torch.log(pos / (neg + eps)).mean()\n",
    "\n",
    "        # calculate accuracy metrics\n",
    "        # copy similarity matrix, no gradients needed for this part so detach\n",
    "        sim_eval = sim.detach()\n",
    "        # first find values to mask where similarity was calculated with itself& zero out\n",
    "        self_mask = torch.eye(sim_eval.shape[0], dtype=torch.bool, device=sim_eval.device)\n",
    "        sim_eval = sim_eval.masked_fill(self_mask, -9e15)\n",
    "        # Find positive example -> batch_size//2 away from the original example\n",
    "        pos_mask = self_mask.roll(shifts=sim_eval.shape[0] // 2, dims=0)\n",
    "        # Get ranking position of positive example by logit score\n",
    "        comb_sim = torch.cat(\n",
    "            [sim_eval[pos_mask][:, None], sim_eval.masked_fill(pos_mask, -9e15)],  # First position positive example\n",
    "            dim=-1,\n",
    "        )\n",
    "        sim_argsort = comb_sim.argsort(dim=-1, descending=True).argmin(dim=-1)\n",
    "        # Logging ranking metrics\n",
    "        # positive sample ranked first\n",
    "        self.log(mode + \"_acc_top1\", (sim_argsort == 0).float().mean(), on_step=True, on_epoch=False)\n",
    "        # positive sample ranked in top 5 \n",
    "        self.log(mode + \"_acc_top5\", (sim_argsort < 5).float().mean(), on_step=True, on_epoch=False)\n",
    "        # mean position of positive sample among entire batch\n",
    "        self.log(mode + \"_acc_mean_pos\", 1 + sim_argsort.float().mean(), on_step=True, on_epoch=False)\n",
    "\n",
    "        return loss\n"
   ]
  },
  {
   "cell_type": "code",
   "execution_count": 11,
   "metadata": {},
   "outputs": [],
   "source": [
    "def simclr_trainer(train_ds, val_ds, batch_size=128, max_epochs=500, **kwargs):\n",
    "    tb_logger = pl_loggers.TensorBoardLogger(save_dir='../results/simclr_demo/lightning_logs')\n",
    "    trainer = Trainer(\n",
    "        default_root_dir='../results/simclr_demo/model_checkpoints',\n",
    "        gpus=0,\n",
    "        max_epochs=500,\n",
    "        callbacks=[\n",
    "            ModelCheckpoint(save_weights_only=True, mode=\"min\", monitor=\"train_loss\"),\n",
    "            LearningRateMonitor(\"epoch\"),\n",
    "        ],\n",
    "        progress_bar_refresh_rate=1,\n",
    "        logger=tb_logger,\n",
    "        log_every_n_steps=2\n",
    "    )\n",
    "    trainer.logger._default_hp_metric = None  # Optional logging argument that we don't need\n",
    "\n",
    "    train_loader = data.DataLoader(\n",
    "        train_ds,\n",
    "        batch_size=batch_size,\n",
    "        shuffle=True,\n",
    "        pin_memory=True,\n",
    "        num_workers=0,\n",
    "        drop_last=True)\n",
    "\n",
    "    valid_loader = data.DataLoader(\n",
    "        val_ds,\n",
    "        batch_size=batch_size,\n",
    "        shuffle=True,\n",
    "        pin_memory=True,\n",
    "        num_workers=0,\n",
    "        drop_last=True)\n",
    "\n",
    "    pl.seed_everything(13)\n",
    "\n",
    "    model = SimCLR(max_epochs=max_epochs, **kwargs)\n",
    "    trainer.fit(model, train_loader, valid_loader)\n",
    "    \n",
    "    # load& return best model after training is complete\n",
    "    model = SimCLR.load_from_checkpoint(trainer.checkpoint_callback.best_model_path)\n",
    "\n",
    "    return model"
   ]
  },
  {
   "cell_type": "code",
   "execution_count": 12,
   "metadata": {},
   "outputs": [
    {
     "name": "stderr",
     "output_type": "stream",
     "text": [
      "GPU available: False, used: False\n",
      "TPU available: False, using: 0 TPU cores\n",
      "IPU available: False, using: 0 IPUs\n",
      "Global seed set to 13\n",
      "\n",
      "  | Name    | Type             | Params\n",
      "---------------------------------------------\n",
      "0 | encoder | ResNet           | 116 M \n",
      "1 | head    | NonlinProjection | 4.5 M \n",
      "---------------------------------------------\n",
      "121 M     Trainable params\n",
      "0         Non-trainable params\n",
      "121 M     Total params\n",
      "484.264   Total estimated model params size (MB)\n"
     ]
    },
    {
     "data": {
      "application/vnd.jupyter.widget-view+json": {
       "model_id": "ae5d0e1bd7204b4cafacfac03faf9cca",
       "version_major": 2,
       "version_minor": 0
      },
      "text/plain": [
       "Validation sanity check: 0it [00:00, ?it/s]"
      ]
     },
     "metadata": {},
     "output_type": "display_data"
    },
    {
     "name": "stdout",
     "output_type": "stream",
     "text": [
      "warning: Embedding dir exists, did you set global_step for add_embedding()?\n"
     ]
    },
    {
     "name": "stderr",
     "output_type": "stream",
     "text": [
      "Global seed set to 13\n",
      "/Users/yannikglaser/miniforge3/envs/ssl_demo/lib/python3.8/site-packages/pytorch_lightning/trainer/data_loading.py:132: UserWarning: The dataloader, train_dataloader, does not have many workers which may be a bottleneck. Consider increasing the value of the `num_workers` argument` (try 8 which is the number of cpus on this machine) in the `DataLoader` init to improve performance.\n",
      "  rank_zero_warn(\n"
     ]
    },
    {
     "data": {
      "application/vnd.jupyter.widget-view+json": {
       "model_id": "b56b2a5139fc4fa98c2918953e163b09",
       "version_major": 2,
       "version_minor": 0
      },
      "text/plain": [
       "Training: 0it [00:00, ?it/s]"
      ]
     },
     "metadata": {},
     "output_type": "display_data"
    }
   ],
   "source": [
    "simclr_model = simclr_trainer(cifar_100_train, cifar_100_test, batch_size=128)"
   ]
  },
  {
   "cell_type": "markdown",
   "metadata": {},
   "source": [
    "### Let's look at some of the results"
   ]
  },
  {
   "cell_type": "markdown",
   "metadata": {},
   "source": []
  }
 ],
 "metadata": {
  "interpreter": {
   "hash": "f1fece7c4f4adb239025c48c3ec00e743632c1c3caa6a6cb39a39f7bcaab8c3d"
  },
  "kernelspec": {
   "display_name": "Python 3.8.13 ('ssl_demo')",
   "language": "python",
   "name": "python3"
  },
  "language_info": {
   "codemirror_mode": {
    "name": "ipython",
    "version": 3
   },
   "file_extension": ".py",
   "mimetype": "text/x-python",
   "name": "python",
   "nbconvert_exporter": "python",
   "pygments_lexer": "ipython3",
   "version": "3.8.13"
  },
  "orig_nbformat": 4
 },
 "nbformat": 4,
 "nbformat_minor": 2
}
